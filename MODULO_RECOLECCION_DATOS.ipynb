{
  "nbformat": 4,
  "nbformat_minor": 0,
  "metadata": {
    "colab": {
      "provenance": []
    },
    "kernelspec": {
      "name": "python3",
      "display_name": "Python 3"
    },
    "language_info": {
      "name": "python"
    }
  },
  "cells": [
    {
      "cell_type": "code",
      "execution_count": null,
      "metadata": {
        "colab": {
          "base_uri": "https://localhost:8080/"
        },
        "id": "JGd9-RWBdRgO",
        "outputId": "6b07a3ef-dd7f-4f1f-e058-a9cb317f9dfb"
      },
      "outputs": [
        {
          "output_type": "stream",
          "name": "stdout",
          "text": [
            "Looking in indexes: https://pypi.org/simple, https://us-python.pkg.dev/colab-wheels/public/simple/\n",
            "Collecting dfply\n",
            "  Downloading dfply-0.3.3-py3-none-any.whl (612 kB)\n",
            "\u001b[K     |████████████████████████████████| 612 kB 5.2 MB/s \n",
            "\u001b[?25hRequirement already satisfied: numpy in /usr/local/lib/python3.8/dist-packages (from dfply) (1.21.6)\n",
            "Requirement already satisfied: pandas in /usr/local/lib/python3.8/dist-packages (from dfply) (1.3.5)\n",
            "Requirement already satisfied: python-dateutil>=2.7.3 in /usr/local/lib/python3.8/dist-packages (from pandas->dfply) (2.8.2)\n",
            "Requirement already satisfied: pytz>=2017.3 in /usr/local/lib/python3.8/dist-packages (from pandas->dfply) (2022.6)\n",
            "Requirement already satisfied: six>=1.5 in /usr/local/lib/python3.8/dist-packages (from python-dateutil>=2.7.3->pandas->dfply) (1.15.0)\n",
            "Installing collected packages: dfply\n",
            "Successfully installed dfply-0.3.3\n"
          ]
        }
      ],
      "source": [
        "!pip install dfply\n",
        "from dfply import *\n",
        "import requests\n",
        "from bs4 import BeautifulSoup\n",
        "import pandas as pd"
      ]
    },
    {
      "cell_type": "code",
      "source": [
        "def get_soup(url):\n",
        "    r = requests.get('http://localhost:8050/render.html', params = {'url':url,'wait':5})\n",
        "    soup = BeautifulSoup(r.text, 'html.parser')\n",
        "    return soup\n",
        "\n",
        "def get_reviews(soup,amazon):\n",
        "    reviews = soup.find_all('div',{'data-hook':'review'})\n",
        "    try:\n",
        "        for item in reviews:\n",
        "            review = {\n",
        "                'DEVICE_MODEL':     soup.title.text.replace(amazon,''),\n",
        "                'TITLE':            item.find('a',{'data-hook':'review-title'}).text.strip(),\n",
        "                'RATE':             float(item.find('i',{'data-hook':'review-star-rating'}).text.replace('out of 5 stars','').strip()),\n",
        "                'STATE':            item.find('span',{'data-hook':'avp-badge'}).text.strip(),\n",
        "                'USER':             item.find('span',{'class':'a-profile-name'}).text.strip(),\n",
        "                'COUNTRY_DATE':     item.find('span',{'data-hook':'review-date'}).text.replace('Reviewed in the ','').replace('Reviewed in ','').strip(),\n",
        "                'COMMENTS':         item.find('span',{'data-hook':'review-body'}).text.strip(),\n",
        "                }\n",
        "            reviewlist.append(review)\n",
        "    except:\n",
        "        pass"
      ],
      "metadata": {
        "id": "Q5Z3j-79dzJW"
      },
      "execution_count": null,
      "outputs": []
    },
    {
      "cell_type": "markdown",
      "source": [
        "AMAZBIT"
      ],
      "metadata": {
        "id": "Q-dLhyi7d8Od"
      }
    },
    {
      "cell_type": "code",
      "source": [
        "device = 'Amazfit Band 5'\n",
        "reviewlist = []\n",
        "amazon = 'Amazon.com: Customer reviews: '\n",
        "for x in range(1,1000):\n",
        "    soup = get_soup(f'https://www.amazon.com/Amazfit-Fitness-Monitoring-Tracking-Resistant/product-reviews/B08DKYLK4D/ref=cm_cr_arp_d_paging_btm_next_2?ie=UTF8&reviewerType=all_reviews&pageNumber={x}')\n",
        "    print(f'Obteniendo pagina: {x}')\n",
        "    get_reviews(soup,amazon)\n",
        "    print(len(reviewlist))\n",
        "    if not soup.find('li',{'class':'a-disabled a-last'}):\n",
        "        pass\n",
        "    else:\n",
        "        break\n",
        "df = pd.DataFrame(reviewlist)\n",
        "df1 = df >> mutate(COUNTRY = (X.COUNTRY_DATE.str.split(' on ', 1, expand=True)[0]).str.replace(' 🇺🇸',''), DATE = pd.to_datetime(df.COUNTRY_DATE.str.split(' on ', 1, expand=True)[1]).dt.date, DEVICE = device) >> select(9,0,1,2,3,4,7,8,6) \n",
        "print('Fin')\n",
        "\n",
        "\n",
        "reviewlist = []\n",
        "amazon = 'Amazon.co.uk:Customer reviews: '\n",
        "for x in range(1,1000):\n",
        "    soup = get_soup(f'https://www.amazon.co.uk/Amazfit-Band-Fitness-Tracker-Waterproof/product-reviews/B08DKWSVZG/ref=cm_cr_getr_d_paging_btm_prev_1?ie=UTF8&reviewerType=all_reviews&pageNumber={x}')\n",
        "    print(f'Obteniendo pagina: {x}')\n",
        "    get_reviews(soup,amazon)\n",
        "    print(len(reviewlist))\n",
        "    if not soup.find('li',{'class':'a-disabled a-last'}):\n",
        "        pass\n",
        "    else:\n",
        "        break\n",
        "df = pd.DataFrame(reviewlist)\n",
        "df2 = df >> mutate(COUNTRY = (X.COUNTRY_DATE.str.split(' on ', 1, expand=True)[0]).str.replace(' 🇬🇧',''), DATE = pd.to_datetime(df.COUNTRY_DATE.str.split(' on ', 1, expand=True)[1]).dt.date, DEVICE = device) >> select(9,0,1,2,3,4,7,8,6) \n",
        "print('Fin')\n",
        "\n",
        "\n",
        "\n",
        "reviewlist = []\n",
        "amazon = 'Amazon.ca:Customer reviews: '\n",
        "for x in range(1,1000):\n",
        "    soup = get_soup(f'https://www.amazon.ca/Amazfit-Midnight-Black-Works-Alexa/product-reviews/B08DKYLK4D/ref=cm_cr_getr_d_paging_btm_prev_5?ie=UTF8&reviewerType=all_reviews&pageNumber={x}')\n",
        "    print(f'Obteniendo pagina: {x}')\n",
        "    get_reviews(soup,amazon)\n",
        "    print(len(reviewlist))\n",
        "    if not soup.find('li',{'class':'a-disabled a-last'}):\n",
        "        pass\n",
        "    else:\n",
        "        break\n",
        "df = pd.DataFrame(reviewlist)\n",
        "df3 = df >> mutate(COUNTRY = (X.COUNTRY_DATE.str.split(' on ', 1, expand=True)[0]).str.replace(' 🇨🇦',''), DATE = pd.to_datetime(df.COUNTRY_DATE.str.split(' on ', 1, expand=True)[1]).dt.date, DEVICE = device) >> select(9,0,1,2,3,4,7,8,6) \n",
        "print('Fin')\n",
        "\n",
        "\n",
        "device_1 = pd.concat([df1,df2,df3])"
      ],
      "metadata": {
        "id": "VKLidmnXd8ls"
      },
      "execution_count": null,
      "outputs": []
    },
    {
      "cell_type": "markdown",
      "source": [
        "ANCWEAR"
      ],
      "metadata": {
        "id": "gCPpD5N0eFWF"
      }
    },
    {
      "cell_type": "code",
      "source": [
        "device = 'ANCwear'\n",
        "reviewlist = []\n",
        "amazon = 'Amazon.com: Customer reviews: '\n",
        "for x in range(1,1000):\n",
        "    soup = get_soup(f'https://www.amazon.com/ANCwear-Activity-Exercise-Waterproof-Pedometer/product-reviews/B07YFBHRN7/ref=cm_cr_getr_d_paging_btm_next_7?ie=UTF8&reviewerType=all_reviews&pageNumber={x}')\n",
        "    print(f'Obteniendo pagina: {x}')\n",
        "    get_reviews(soup,amazon)\n",
        "    print(len(reviewlist))\n",
        "    if not soup.find('li',{'class':'a-disabled a-last'}):\n",
        "        pass\n",
        "    else:\n",
        "        break\n",
        "df = pd.DataFrame(reviewlist)\n",
        "df1 = df >> mutate(COUNTRY = (X.COUNTRY_DATE.str.split(' on ', 1, expand=True)[0]).str.replace(' 🇺🇸',''), DATE = pd.to_datetime(df.COUNTRY_DATE.str.split(' on ', 1, expand=True)[1]).dt.date, DEVICE = device) >> select(9,0,1,2,3,4,7,8,6) \n",
        "print('Fin')\n",
        "\n",
        "\n",
        "\n",
        "reviewlist = []\n",
        "amazon = 'Amazon.co.uk:Customer reviews: '\n",
        "for x in range(1,1000):\n",
        "    soup = get_soup(f'https://www.amazon.co.uk/Trackers-Activity-Waterproof-Compatible-Smartphone/product-reviews/B0823ZCMM5/ref=cm_cr_getr_d_paging_btm_next_7?ie=UTF8&reviewerType=all_reviews&pageNumber={x}')\n",
        "    print(f'Obteniendo pagina: {x}')\n",
        "    get_reviews(soup,amazon)\n",
        "    print(len(reviewlist))\n",
        "    if not soup.find('li',{'class':'a-disabled a-last'}):\n",
        "        pass\n",
        "    else:\n",
        "        break\n",
        "df = pd.DataFrame(reviewlist)\n",
        "df2 = df >> mutate(COUNTRY = (X.COUNTRY_DATE.str.split(' on ', 1, expand=True)[0]).str.replace(' 🇬🇧',''), DATE = pd.to_datetime(df.COUNTRY_DATE.str.split(' on ', 1, expand=True)[1]).dt.date, DEVICE = device) >> select(9,0,1,2,3,4,7,8,6) \n",
        "print('Fin')\n",
        "\n",
        "\n",
        "\n",
        "reviewlist = []\n",
        "amazon = 'Amazon.ca:Customer reviews: '\n",
        "for x in range(1,1000):\n",
        "    soup = get_soup(f'https://www.amazon.ca/ANCwear-Activity-Exercise-Waterproof-Pedometer/product-reviews/B07YFBHRN7/ref=cm_cr_getr_d_paging_btm_next_6?ie=UTF8&reviewerType=all_reviews&pageNumber={x}')\n",
        "    print(f'Obteniendo pagina: {x}')\n",
        "    get_reviews(soup,amazon)\n",
        "    print(len(reviewlist))\n",
        "    if not soup.find('li',{'class':'a-disabled a-last'}):\n",
        "        pass\n",
        "    else:\n",
        "        break\n",
        "df = pd.DataFrame(reviewlist)\n",
        "df3 = df >> mutate(COUNTRY = (X.COUNTRY_DATE.str.split(' on ', 1, expand=True)[0]).str.replace(' 🇨🇦',''), DATE = pd.to_datetime(df.COUNTRY_DATE.str.split(' on ', 1, expand=True)[1]).dt.date, DEVICE = device) >> select(9,0,1,2,3,4,7,8,6) \n",
        "print('Fin')\n",
        "\n",
        "\n",
        "device_2 = pd.concat([df1,df2,df3])"
      ],
      "metadata": {
        "id": "Kn2xtF0ceEeX"
      },
      "execution_count": null,
      "outputs": []
    },
    {
      "cell_type": "markdown",
      "source": [
        "FITBIT CHARGE 4"
      ],
      "metadata": {
        "id": "wjT3O6ajeJ1U"
      }
    },
    {
      "cell_type": "code",
      "source": [
        "device = 'Fitbit Charge 4'\n",
        "reviewlist = []\n",
        "amazon = 'Amazon.com: Customer reviews: '\n",
        "for x in range(1,1000):\n",
        "    soup = get_soup(f'https://www.amazon.com/Fitbit-Fitness-Activity-Tracking-Included/product-reviews/B084CQ41M2/ref=cm_cr_arp_d_paging_btm_next_2?ie=UTF8&reviewerType=all_reviews&pageNumber={x}')\n",
        "    print(f'Obteniendo pagina: {x}')\n",
        "    get_reviews(soup,amazon)\n",
        "    print(len(reviewlist))\n",
        "    if not soup.find('li',{'class':'a-disabled a-last'}):\n",
        "        pass\n",
        "    else:\n",
        "        break\n",
        "df = pd.DataFrame(reviewlist)\n",
        "df1 = df >> mutate(COUNTRY = (X.COUNTRY_DATE.str.split(' on ', 1, expand=True)[0]).str.replace(' 🇺🇸',''), DATE = pd.to_datetime(df.COUNTRY_DATE.str.split(' on ', 1, expand=True)[1]).dt.date, DEVICE = device) >> select(9,0,1,2,3,4,7,8,6) \n",
        "print('Fin')\n",
        "\n",
        "\n",
        "\n",
        "reviewlist = []\n",
        "amazon = 'Amazon.co.uk:Customer reviews: '\n",
        "for x in range(1,1000):\n",
        "    soup = get_soup(f'https://www.amazon.co.uk/Fitbit-Advanced-Fitness-Tracker-Tracking/product-reviews/B084CQ41M2/ref=cm_cr_arp_d_paging_btm_next_2?ie=UTF8&reviewerType=all_reviews&pageNumber={x}')\n",
        "    print(f'Obteniendo pagina: {x}')\n",
        "    get_reviews(soup,amazon)\n",
        "    print(len(reviewlist))\n",
        "    if not soup.find('li',{'class':'a-disabled a-last'}):\n",
        "        pass\n",
        "    else:\n",
        "        break\n",
        "df = pd.DataFrame(reviewlist)\n",
        "df2 = df >> mutate(COUNTRY = (X.COUNTRY_DATE.str.split(' on ', 1, expand=True)[0]).str.replace(' 🇬🇧',''), DATE = pd.to_datetime(df.COUNTRY_DATE.str.split(' on ', 1, expand=True)[1]).dt.date, DEVICE = device) >> select(9,0,1,2,3,4,7,8,6) \n",
        "print('Fin')\n",
        "\n",
        "\n",
        "\n",
        "reviewlist = []\n",
        "amazon = 'Amazon.ca:Customer reviews: '\n",
        "for x in range(1,1000):\n",
        "    soup = get_soup(f'https://www.amazon.ca/Fitbit-Fitness-Activity-Tracking-Included/product-reviews/B084CQ41M2/ref=cm_cr_getr_d_paging_btm_next_3?ie=UTF8&reviewerType=all_reviews&pageNumber={x}')\n",
        "    print(f'Obteniendo pagina: {x}')\n",
        "    get_reviews(soup,amazon)\n",
        "    print(len(reviewlist))\n",
        "    if not soup.find('li',{'class':'a-disabled a-last'}):\n",
        "        pass\n",
        "    else:\n",
        "        break\n",
        "df = pd.DataFrame(reviewlist)\n",
        "df3 = df >> mutate(COUNTRY = (X.COUNTRY_DATE.str.split(' on ', 1, expand=True)[0]).str.replace(' 🇨🇦',''), DATE = pd.to_datetime(df.COUNTRY_DATE.str.split(' on ', 1, expand=True)[1]).dt.date, DEVICE = device) >> select(9,0,1,2,3,4,7,8,6) \n",
        "print('Fin')\n",
        "\n",
        "\n",
        "device_3 = pd.concat([df1,df2,df3])"
      ],
      "metadata": {
        "id": "9vavZcb2eLmc"
      },
      "execution_count": null,
      "outputs": []
    },
    {
      "cell_type": "markdown",
      "source": [
        "FITBIT CHARGE 5"
      ],
      "metadata": {
        "id": "6o-ciEPReOEd"
      }
    },
    {
      "cell_type": "code",
      "source": [
        "device = 'Fitbit Charge 5'\n",
        "reviewlist = []\n",
        "amazon = 'Amazon.com: Customer reviews: '\n",
        "for x in range(1,1000):\n",
        "    soup = get_soup(f'https://www.amazon.com/Fitbit-Advanced-Management-Tracking-Graphite/product-reviews/B09BXQ4HMB/ref=cm_cr_getr_d_paging_btm_next_5?ie=UTF8&reviewerType=all_reviews&pageNumber={x}')\n",
        "    print(f'Obteniendo pagina: {x}')\n",
        "    get_reviews(soup,amazon)\n",
        "    print(len(reviewlist))\n",
        "    if not soup.find('li',{'class':'a-disabled a-last'}):\n",
        "        pass\n",
        "    else:\n",
        "        break\n",
        "df = pd.DataFrame(reviewlist)\n",
        "df1 = df >> mutate(COUNTRY = (X.COUNTRY_DATE.str.split(' on ', 1, expand=True)[0]).str.replace(' 🇺🇸',''), DATE = pd.to_datetime(df.COUNTRY_DATE.str.split(' on ', 1, expand=True)[1]).dt.date, DEVICE = device) >> select(9,0,1,2,3,4,7,8,6) \n",
        "print('Fin')\n",
        "\n",
        "\n",
        "\n",
        "reviewlist = []\n",
        "amazon = 'Amazon.co.uk:Customer reviews: '\n",
        "for x in range(1,1000):\n",
        "    soup = get_soup(f'https://www.amazon.co.uk/Fitbit-Activity-6-months-Membership-Readiness/product-reviews/B09BXQ4HMB/ref=cm_cr_getr_d_paging_btm_next_3?ie=UTF8&reviewerType=all_reviews&pageNumber={x}')\n",
        "    print(f'Obteniendo pagina: {x}')\n",
        "    get_reviews(soup,amazon)\n",
        "    print(len(reviewlist))\n",
        "    if not soup.find('li',{'class':'a-disabled a-last'}):\n",
        "        pass\n",
        "    else:\n",
        "        break\n",
        "df = pd.DataFrame(reviewlist)\n",
        "df2 = df >> mutate(COUNTRY = (X.COUNTRY_DATE.str.split(' on ', 1, expand=True)[0]).str.replace(' 🇬🇧',''), DATE = pd.to_datetime(df.COUNTRY_DATE.str.split(' on ', 1, expand=True)[1]).dt.date, DEVICE = device) >> select(9,0,1,2,3,4,7,8,6) \n",
        "print('Fin')\n",
        "\n",
        "\n",
        "\n",
        "reviewlist = []\n",
        "amazon = 'Amazon.ca:Customer reviews: '\n",
        "for x in range(1,1000):\n",
        "    soup = get_soup(f'https://www.amazon.ca/Advanced-Management-Tracking-Graphite-Included/product-reviews/B09CSX5G3V/ref=cm_cr_getr_d_paging_btm_next_3?ie=UTF8&reviewerType=all_reviews&pageNumber={x}')\n",
        "    print(f'Obteniendo pagina: {x}')\n",
        "    get_reviews(soup,amazon)\n",
        "    print(len(reviewlist))\n",
        "    if not soup.find('li',{'class':'a-disabled a-last'}):\n",
        "        pass\n",
        "    else:\n",
        "        break\n",
        "df = pd.DataFrame(reviewlist)\n",
        "df3 = df >> mutate(COUNTRY = (X.COUNTRY_DATE.str.split(' on ', 1, expand=True)[0]).str.replace(' 🇨🇦',''), DATE = pd.to_datetime(df.COUNTRY_DATE.str.split(' on ', 1, expand=True)[1]).dt.date, DEVICE = device) >> select(9,0,1,2,3,4,7,8,6) \n",
        "print('Fin')\n",
        "\n",
        "\n",
        "device_4 = pd.concat([df1,df2,df3])"
      ],
      "metadata": {
        "id": "cCKyY4FpePr-"
      },
      "execution_count": null,
      "outputs": []
    },
    {
      "cell_type": "markdown",
      "source": [
        "FITBIT INSPIRE 2"
      ],
      "metadata": {
        "id": "zkWfTIhDeRwn"
      }
    },
    {
      "cell_type": "code",
      "source": [
        "device = 'Fitbit Inspire 2'\n",
        "reviewlist = []\n",
        "amazon = 'Amazon.com: Customer reviews: '\n",
        "for x in range(1,1000):\n",
        "    soup = get_soup(f'https://www.amazon.com/Fitbit-Inspire-Fitness-Tracker-Included/product-reviews/B08DFGPTSK/ref=cm_cr_getr_d_paging_btm_prev_1?ie=UTF8&reviewerType=all_reviews&pageNumber={x}')\n",
        "    print(f'Obteniendo pagina: {x}')\n",
        "    get_reviews(soup,amazon)\n",
        "    print(len(reviewlist))\n",
        "    if not soup.find('li',{'class':'a-disabled a-last'}):\n",
        "        pass\n",
        "    else:\n",
        "        break\n",
        "df = pd.DataFrame(reviewlist)\n",
        "df1 = df >> mutate(COUNTRY = (X.COUNTRY_DATE.str.split(' on ', 1, expand=True)[0]).str.replace(' 🇺🇸',''), DATE = pd.to_datetime(df.COUNTRY_DATE.str.split(' on ', 1, expand=True)[1]).dt.date, DEVICE = device) >> select(9,0,1,2,3,4,7,8,6) \n",
        "print('Fin')\n",
        "\n",
        "\n",
        "reviewlist = []\n",
        "amazon = 'Amazon.co.uk:Customer reviews: '\n",
        "for x in range(1,1000):\n",
        "    soup = get_soup(f'https://www.amazon.co.uk/Fitbit-Inspire-Fitness-Tracker-Premium/product-reviews/B08DFGPTSK/ref=cm_cr_arp_d_paging_btm_next_2?ie=UTF8&reviewerType=all_reviews&pageNumber={x}')\n",
        "    print(f'Obteniendo pagina: {x}')\n",
        "    get_reviews(soup,amazon)\n",
        "    print(len(reviewlist))\n",
        "    if not soup.find('li',{'class':'a-disabled a-last'}):\n",
        "        pass\n",
        "    else:\n",
        "        break\n",
        "df = pd.DataFrame(reviewlist)\n",
        "df2 = df >> mutate(COUNTRY = (X.COUNTRY_DATE.str.split(' on ', 1, expand=True)[0]).str.replace(' 🇬🇧',''), DATE = pd.to_datetime(df.COUNTRY_DATE.str.split(' on ', 1, expand=True)[1]).dt.date, DEVICE = device) >> select(9,0,1,2,3,4,7,8,6) \n",
        "print('Fin')\n",
        "\n",
        "\n",
        "\n",
        "reviewlist = []\n",
        "amazon = 'Amazon.ca:Customer reviews: '\n",
        "for x in range(1,1000):\n",
        "    soup = get_soup(f'https://www.amazon.ca/Fitbit-Inspire-Fitness-Tracker-Included/product-reviews/B08FSBNJG8/ref=cm_cr_arp_d_paging_btm_next_2?ie=UTF8&reviewerType=all_reviews&pageNumber={x}')\n",
        "    print(f'Obteniendo pagina: {x}')\n",
        "    get_reviews(soup,amazon)\n",
        "    print(len(reviewlist))\n",
        "    if not soup.find('li',{'class':'a-disabled a-last'}):\n",
        "        pass\n",
        "    else:\n",
        "        break\n",
        "df = pd.DataFrame(reviewlist)\n",
        "df3 = df >> mutate(COUNTRY = (X.COUNTRY_DATE.str.split(' on ', 1, expand=True)[0]).str.replace(' 🇨🇦',''), DATE = pd.to_datetime(df.COUNTRY_DATE.str.split(' on ', 1, expand=True)[1]).dt.date, DEVICE = device) >> select(9,0,1,2,3,4,7,8,6) \n",
        "print('Fin')\n",
        "\n",
        "\n",
        "device_5 = pd.concat([df1,df2,df3])"
      ],
      "metadata": {
        "id": "yaqgqR7AeTxJ"
      },
      "execution_count": null,
      "outputs": []
    },
    {
      "cell_type": "markdown",
      "source": [
        "GARMIN"
      ],
      "metadata": {
        "id": "-bh6aAVoeVq7"
      }
    },
    {
      "cell_type": "code",
      "source": [
        "device = 'Garmin Vivofit 4'\n",
        "reviewlist = []\n",
        "amazon = 'Amazon.com: Customer reviews: '\n",
        "for x in range(1,1000):\n",
        "    soup = get_soup(f'https://www.amazon.com/Garmin-v%C3%ADvofit-activity-display-010-01847-00/product-reviews/B077X1SQY9/ref=cm_cr_arp_d_paging_btm_next_2?ie=UTF8&reviewerType=all_reviews&pageNumber={x}')\n",
        "    print(f'Obteniendo pagina: {x}')\n",
        "    get_reviews(soup,amazon)\n",
        "    print(len(reviewlist))\n",
        "    if not soup.find('li',{'class':'a-disabled a-last'}):\n",
        "        pass\n",
        "    else:\n",
        "        break\n",
        "df = pd.DataFrame(reviewlist)\n",
        "df1 = df >> mutate(COUNTRY = (X.COUNTRY_DATE.str.split(' on ', 1, expand=True)[0]).str.replace(' 🇺🇸',''), DATE = pd.to_datetime(df.COUNTRY_DATE.str.split(' on ', 1, expand=True)[1]).dt.date, DEVICE = device) >> select(9,0,1,2,3,4,7,8,6) \n",
        "print('Fin')\n",
        "\n",
        "\n",
        "reviewlist = []\n",
        "amazon = 'Amazon.com: Customer reviews: '\n",
        "for x in range(1,1000):\n",
        "    soup = get_soup(f'https://www.amazon.com/Garmin-v%C3%ADvofit-activity-display-010-01847-00/product-reviews/B077X1SQY9/ref=cm_cr_arp_d_viewopt_rvwer?ie=UTF8&reviewerType=avp_only_reviews&pageNumber={x}')\n",
        "    print(f'Obteniendo pagina: {x}')\n",
        "    get_reviews(soup,amazon)\n",
        "    print(len(reviewlist))\n",
        "    if not soup.find('li',{'class':'a-disabled a-last'}):\n",
        "        pass\n",
        "    else:\n",
        "        break\n",
        "df = pd.DataFrame(reviewlist)\n",
        "df2 = df >> mutate(COUNTRY = (X.COUNTRY_DATE.str.split(' on ', 1, expand=True)[0]).str.replace(' 🇺🇸',''), DATE = pd.to_datetime(df.COUNTRY_DATE.str.split(' on ', 1, expand=True)[1]).dt.date, DEVICE = device) >> select(9,0,1,2,3,4,7,8,6) \n",
        "print('Fin')\n",
        "\n",
        "\n",
        "\n",
        "reviewlist = []\n",
        "amazon = 'Amazon.co.uk:Customer reviews: '\n",
        "for x in range(1,1000):\n",
        "    soup = get_soup(f'https://www.amazon.co.uk/Garmin-v%C3%ADvofit-activity-display-010-01847-03/product-reviews/B077WTKG7N/ref=cm_cr_arp_d_paging_btm_next_2?ie=UTF8&reviewerType=all_reviews&pageNumber={x}')\n",
        "    print(f'Obteniendo pagina: {x}')\n",
        "    get_reviews(soup,amazon)\n",
        "    print(len(reviewlist))\n",
        "    if not soup.find('li',{'class':'a-disabled a-last'}):\n",
        "        pass\n",
        "    else:\n",
        "        break\n",
        "df = pd.DataFrame(reviewlist)\n",
        "df3 = df >> mutate(COUNTRY = (X.COUNTRY_DATE.str.split(' on ', 1, expand=True)[0]).str.replace(' 🇬🇧',''), DATE = pd.to_datetime(df.COUNTRY_DATE.str.split(' on ', 1, expand=True)[1]).dt.date, DEVICE = device) >> select(9,0,1,2,3,4,7,8,6) \n",
        "print('Fin')\n",
        "\n",
        "\n",
        "\n",
        "reviewlist = []\n",
        "amazon = 'Amazon.ca:Customer reviews: '\n",
        "for x in range(1,1000):\n",
        "    soup = get_soup(f'https://www.amazon.ca/Garmin-v%C3%ADvofit-Activity-Display-010-01847-00/product-reviews/B077X1SQY9/ref=cm_cr_getr_d_paging_btm_next_7?ie=UTF8&reviewerType=all_reviews&pageNumber={x}')\n",
        "    print(f'Obteniendo pagina: {x}')\n",
        "    get_reviews(soup,amazon)\n",
        "    print(len(reviewlist))\n",
        "    if not soup.find('li',{'class':'a-disabled a-last'}):\n",
        "        pass\n",
        "    else:\n",
        "        break\n",
        "df = pd.DataFrame(reviewlist)\n",
        "df4 = df >> mutate(COUNTRY = (X.COUNTRY_DATE.str.split(' on ', 1, expand=True)[0]).str.replace(' 🇨🇦',''), DATE = pd.to_datetime(df.COUNTRY_DATE.str.split(' on ', 1, expand=True)[1]).dt.date, DEVICE = device) >> select(9,0,1,2,3,4,7,8,6) \n",
        "print('Fin')\n",
        "\n",
        "\n",
        "device_6 = pd.concat([df1,df2,df3,df4])"
      ],
      "metadata": {
        "id": "REmvNYnSeXnr"
      },
      "execution_count": null,
      "outputs": []
    },
    {
      "cell_type": "markdown",
      "source": [
        "HUAWEI"
      ],
      "metadata": {
        "id": "25YtBwOeeZrG"
      }
    },
    {
      "cell_type": "code",
      "source": [
        "device = 'HUAWEI Band 4 Pro'\n",
        "reviewlist = []\n",
        "amazon = 'Amazon.com: Customer reviews: '\n",
        "for x in range(1,1000):\n",
        "    soup = get_soup(f'https://www.amazon.com/HUAWEI-Band-Pro-Touchscreen-Built/product-reviews/B08179V446/ref=cm_cr_arp_d_paging_btm_next_2?ie=UTF8&reviewerType=all_reviews&pageNumber={x}')\n",
        "    print(f'Obteniendo pagina: {x}')\n",
        "    get_reviews(soup,amazon)\n",
        "    print(len(reviewlist))\n",
        "    if not soup.find('li',{'class':'a-disabled a-last'}):\n",
        "        pass\n",
        "    else:\n",
        "        break\n",
        "df = pd.DataFrame(reviewlist)\n",
        "df1 = df >> mutate(COUNTRY = (X.COUNTRY_DATE.str.split(' on ', 1, expand=True)[0]).str.replace(' 🇺🇸',''), DATE = pd.to_datetime(df.COUNTRY_DATE.str.split(' on ', 1, expand=True)[1]).dt.date, DEVICE = device) >> select(9,0,1,2,3,4,7,8,6) \n",
        "print('Fin')\n",
        "\n",
        "\n",
        "reviewlist = []\n",
        "amazon = 'Amazon.com: Customer reviews: '\n",
        "for x in range(1,1000):\n",
        "    soup = get_soup(f'https://www.amazon.com/HUAWEI-Band-Pro-Touchscreen-Built/product-reviews/B08179V446/ref=cm_cr_getr_d_paging_btm_next_3?ie=UTF8&reviewerType=all_reviews&pageNumber={x}')\n",
        "    print(f'Obteniendo pagina: {x}')\n",
        "    get_reviews(soup,amazon)\n",
        "    print(len(reviewlist))\n",
        "    if not soup.find('li',{'class':'a-disabled a-last'}):\n",
        "        pass\n",
        "    else:\n",
        "        break\n",
        "df = pd.DataFrame(reviewlist)\n",
        "df2 = df >> mutate(COUNTRY = (X.COUNTRY_DATE.str.split(' on ', 1, expand=True)[0]).str.replace(' 🇺🇸',''), DATE = pd.to_datetime(df.COUNTRY_DATE.str.split(' on ', 1, expand=True)[1]).dt.date, DEVICE = device) >> select(9,0,1,2,3,4,7,8,6) \n",
        "print('Fin')\n",
        "\n",
        "\n",
        "\n",
        "reviewlist = []\n",
        "amazon = 'Amazon.co.uk:Customer reviews: '\n",
        "for x in range(1,1000):\n",
        "    soup = get_soup(f'https://www.amazon.co.uk/HUAWEI-Band-Pro-Touchscreen-Built-Black/product-reviews/B08179V446/ref=cm_cr_arp_d_paging_btm_next_2?ie=UTF8&reviewerType=all_reviews&pageNumber={x}')\n",
        "    print(f'Obteniendo pagina: {x}')\n",
        "    get_reviews(soup,amazon)\n",
        "    print(len(reviewlist))\n",
        "    if not soup.find('li',{'class':'a-disabled a-last'}):\n",
        "        pass\n",
        "    else:\n",
        "        break\n",
        "df = pd.DataFrame(reviewlist)\n",
        "df3 = df >> mutate(COUNTRY = (X.COUNTRY_DATE.str.split(' on ', 1, expand=True)[0]).str.replace(' 🇬🇧',''), DATE = pd.to_datetime(df.COUNTRY_DATE.str.split(' on ', 1, expand=True)[1]).dt.date, DEVICE = device) >> select(9,0,1,2,3,4,7,8,6) \n",
        "print('Fin')\n",
        "\n",
        "\n",
        "\n",
        "reviewlist = []\n",
        "amazon = 'Amazon.ca:Customer reviews: '\n",
        "for x in range(1,1000):\n",
        "    soup = get_soup(f'https://www.amazon.ca/HUAWEI-Band-Pro-Touchscreen-Built/product-reviews/B08179V446/ref=cm_cr_arp_d_paging_btm_next_2?ie=UTF8&reviewerType=all_reviews&pageNumber={x}')\n",
        "    print(f'Obteniendo pagina: {x}')\n",
        "    get_reviews(soup,amazon)\n",
        "    print(len(reviewlist))\n",
        "    if not soup.find('li',{'class':'a-disabled a-last'}):\n",
        "        pass\n",
        "    else:\n",
        "        break\n",
        "df = pd.DataFrame(reviewlist)\n",
        "df4 = df >> mutate(COUNTRY = (X.COUNTRY_DATE.str.split(' on ', 1, expand=True)[0]).str.replace(' 🇨🇦',''), DATE = pd.to_datetime(df.COUNTRY_DATE.str.split(' on ', 1, expand=True)[1]).dt.date, DEVICE = device) >> select(9,0,1,2,3,4,7,8,6) \n",
        "print('Fin')\n",
        "\n",
        "\n",
        "device_7 = pd.concat([df1,df2,df3,df4])"
      ],
      "metadata": {
        "id": "H8y-cLLIebT1"
      },
      "execution_count": null,
      "outputs": []
    },
    {
      "cell_type": "markdown",
      "source": [
        "MOREPRO"
      ],
      "metadata": {
        "id": "4V7-eZQUedfD"
      }
    },
    {
      "cell_type": "code",
      "source": [
        "device = 'MorePro'\n",
        "reviewlist = []\n",
        "amazon = 'Amazon.com: Customer reviews: '\n",
        "for x in range(1,1000):\n",
        "    soup = get_soup(f'https://www.amazon.com/MorePro-Pressure-Activity-Waterproof-Smartwatch/product-reviews/B0891VTYYJ/ref=cm_cr_arp_d_paging_btm_next_2?ie=UTF8&reviewerType=all_reviews&pageNumber={x}')\n",
        "    print(f'Obteniendo pagina: {x}')\n",
        "    get_reviews(soup,amazon)\n",
        "    print(len(reviewlist))\n",
        "    if not soup.find('li',{'class':'a-disabled a-last'}):\n",
        "        pass\n",
        "    else:\n",
        "        break\n",
        "df = pd.DataFrame(reviewlist)\n",
        "df1 = df >> mutate(COUNTRY = (X.COUNTRY_DATE.str.split(' on ', 1, expand=True)[0]).str.replace(' 🇺🇸',''), DATE = pd.to_datetime(df.COUNTRY_DATE.str.split(' on ', 1, expand=True)[1]).dt.date, DEVICE = device) >> select(9,0,1,2,3,4,7,8,6) \n",
        "print('Fin')\n",
        "\n",
        "\n",
        "\n",
        "reviewlist = []\n",
        "amazon = 'Amazon.ca:Customer reviews: '\n",
        "for x in range(1,1000):\n",
        "    soup = get_soup(f'https://www.amazon.ca/MorePro-Activity-Wateproof-Smartwatch-Pedometer/product-reviews/B08MVR8LG9/ref=cm_cr_arp_d_paging_btm_next_2?ie=UTF8&reviewerType=all_reviews&pageNumber={x}')\n",
        "    print(f'Obteniendo pagina: {x}')\n",
        "    get_reviews(soup,amazon)\n",
        "    print(len(reviewlist))\n",
        "    if not soup.find('li',{'class':'a-disabled a-last'}):\n",
        "        pass\n",
        "    else:\n",
        "        break\n",
        "df = pd.DataFrame(reviewlist)\n",
        "df2 = df >> mutate(COUNTRY = (X.COUNTRY_DATE.str.split(' on ', 1, expand=True)[0]).str.replace(' 🇨🇦',''), DATE = pd.to_datetime(df.COUNTRY_DATE.str.split(' on ', 1, expand=True)[1]).dt.date, DEVICE = device) >> select(9,0,1,2,3,4,7,8,6) \n",
        "print('Fin')\n",
        "\n",
        "\n",
        "device_8 = pd.concat([df1,df2])"
      ],
      "metadata": {
        "id": "Ov_paw4cefWt"
      },
      "execution_count": null,
      "outputs": []
    },
    {
      "cell_type": "markdown",
      "source": [
        "SAMSUNG GALAXY FIT 2"
      ],
      "metadata": {
        "id": "I8daaOwcejQQ"
      }
    },
    {
      "cell_type": "code",
      "source": [
        "device = 'Samsung Galaxy Fit 2'\n",
        "reviewlist = []\n",
        "amazon = 'Amazon.com: Customer reviews: '\n",
        "for x in range(1,1000):\n",
        "    soup = get_soup(f'https://www.amazon.com/Samsung-Galaxy-Bluetooth-Fitness-Tracking/product-reviews/B08H6SQTW1/ref=cm_cr_getr_d_paging_btm_next_4?ie=UTF8&reviewerType=all_reviews&pageNumber={x}')\n",
        "    print(f'Obteniendo pagina: {x}')\n",
        "    get_reviews(soup,amazon)\n",
        "    print(len(reviewlist))\n",
        "    if not soup.find('li',{'class':'a-disabled a-last'}):\n",
        "        pass\n",
        "    else:\n",
        "        break\n",
        "df = pd.DataFrame(reviewlist)\n",
        "df1 = df >> mutate(COUNTRY = (X.COUNTRY_DATE.str.split(' on ', 1, expand=True)[0]).str.replace(' 🇺🇸',''), DATE = pd.to_datetime(df.COUNTRY_DATE.str.split(' on ', 1, expand=True)[1]).dt.date, DEVICE = device) >> select(9,0,1,2,3,4,7,8,6) \n",
        "print('Fin')\n",
        "\n",
        "\n",
        "\n",
        "reviewlist = []\n",
        "amazon = 'Amazon.co.uk:Customer reviews: '\n",
        "for x in range(1,1000):\n",
        "    soup = get_soup(f'https://www.amazon.co.uk/Samsung-Galaxy-Fit-Activity-Tracker/product-reviews/B08H5MP84J/ref=cm_cr_getr_d_paging_btm_next_3?ie=UTF8&reviewerType=all_reviews&pageNumber={x}')\n",
        "    print(f'Obteniendo pagina: {x}')\n",
        "    get_reviews(soup,amazon)\n",
        "    print(len(reviewlist))\n",
        "    if not soup.find('li',{'class':'a-disabled a-last'}):\n",
        "        pass\n",
        "    else:\n",
        "        break\n",
        "df = pd.DataFrame(reviewlist)\n",
        "df2 = df >> mutate(COUNTRY = (X.COUNTRY_DATE.str.split(' on ', 1, expand=True)[0]).str.replace(' 🇬🇧',''), DATE = pd.to_datetime(df.COUNTRY_DATE.str.split(' on ', 1, expand=True)[1]).dt.date, DEVICE = device) >> select(9,0,1,2,3,4,7,8,6) \n",
        "print('Fin')\n",
        "\n",
        "\n",
        "\n",
        "reviewlist = []\n",
        "amazon = 'Amazon.ca:Customer reviews: '\n",
        "for x in range(1,1000):\n",
        "    soup = get_soup(f'https://www.amazon.ca/Advanced-Management-Tracking-Graphite-Included/product-reviews/B09CSX5G3V/ref=cm_cr_getr_d_paging_btm_next_3?ie=UTF8&reviewerType=all_reviews&pageNumber={x}')\n",
        "    print(f'Obteniendo pagina: {x}')\n",
        "    get_reviews(soup,amazon)\n",
        "    print(len(reviewlist))\n",
        "    if not soup.find('li',{'class':'a-disabled a-last'}):\n",
        "        pass\n",
        "    else:\n",
        "        break\n",
        "df = pd.DataFrame(reviewlist)\n",
        "df3 = df >> mutate(COUNTRY = (X.COUNTRY_DATE.str.split(' on ', 1, expand=True)[0]).str.replace(' 🇨🇦',''), DATE = pd.to_datetime(df.COUNTRY_DATE.str.split(' on ', 1, expand=True)[1]).dt.date, DEVICE = device) >> select(9,0,1,2,3,4,7,8,6) \n",
        "print('Fin')\n",
        "\n",
        "\n",
        "device_9 = pd.concat([df1,df2,df3])"
      ],
      "metadata": {
        "id": "Iv-Mg0q_ejzc"
      },
      "execution_count": null,
      "outputs": []
    },
    {
      "cell_type": "markdown",
      "source": [
        "XIAOMI BAND 5"
      ],
      "metadata": {
        "id": "M2JE7HzKel1l"
      }
    },
    {
      "cell_type": "code",
      "source": [
        "device = 'Xiaomi Mi Band 5'\n",
        "reviewlist = []\n",
        "amazon = 'Amazon.com: Customer reviews: '\n",
        "for x in range(1,1000):\n",
        "    soup = get_soup(f'https://www.amazon.com/Xiaomi-Band-Wristband-Magnetic-Bluetooth/product-reviews/B089NS9JW2/ref=cm_cr_getr_d_paging_btm_next_3?ie=UTF8&reviewerType=all_reviews&pageNumber={x}')\n",
        "    print(f'Obteniendo pagina: {x}')\n",
        "    get_reviews(soup,amazon)\n",
        "    print(len(reviewlist))\n",
        "    if not soup.find('li',{'class':'a-disabled a-last'}):\n",
        "        pass\n",
        "    else:\n",
        "        break\n",
        "df = pd.DataFrame(reviewlist)\n",
        "df1 = df >> mutate(COUNTRY = (X.COUNTRY_DATE.str.split(' on ', 1, expand=True)[0]).str.replace(' 🇺🇸',''), DATE = pd.to_datetime(df.COUNTRY_DATE.str.split(' on ', 1, expand=True)[1]).dt.date, DEVICE = device) >> select(9,0,1,2,3,4,7,8,6) \n",
        "print('Fin')\n",
        "\n",
        "\n",
        "reviewlist = []\n",
        "amazon = 'Amazon.co.uk:Customer reviews: '\n",
        "for x in range(1,1000):\n",
        "    soup = get_soup(f'https://www.amazon.co.uk/Xiaomi-Band-Health-Fitness-Tracker/product-reviews/B089NS9JW2/ref=cm_cr_arp_d_paging_btm_next_2?ie=UTF8&reviewerType=all_reviews&pageNumber={x}')\n",
        "    print(f'Obteniendo pagina: {x}')\n",
        "    get_reviews(soup,amazon)\n",
        "    print(len(reviewlist))\n",
        "    if not soup.find('li',{'class':'a-disabled a-last'}):\n",
        "        pass\n",
        "    else:\n",
        "        break\n",
        "df = pd.DataFrame(reviewlist)\n",
        "df2 = df >> mutate(COUNTRY = (X.COUNTRY_DATE.str.split(' on ', 1, expand=True)[0]).str.replace(' 🇬🇧',''), DATE = pd.to_datetime(df.COUNTRY_DATE.str.split(' on ', 1, expand=True)[1]).dt.date, DEVICE = device) >> select(9,0,1,2,3,4,7,8,6) \n",
        "print('Fin')\n",
        "\n",
        "\n",
        "\n",
        "device_10 = pd.concat([df1,df2])"
      ],
      "metadata": {
        "id": "mOYdzO8Fen7-"
      },
      "execution_count": null,
      "outputs": []
    },
    {
      "cell_type": "markdown",
      "source": [
        "Save the data in 1 file"
      ],
      "metadata": {
        "id": "oqlMoOoHeqak"
      }
    },
    {
      "cell_type": "code",
      "source": [
        "Final = pd.concat([device_1, device_2, device_3, device_4, device_5, device_6, device_7, device_8, device_9, device_10])\n",
        "Final.to_excel('FINAL.xlsx', index = None, header=True,  sheet_name = 'DATA')"
      ],
      "metadata": {
        "id": "FTux5yg8eunP"
      },
      "execution_count": null,
      "outputs": []
    }
  ]
}